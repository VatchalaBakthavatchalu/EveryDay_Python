{
 "cells": [
  {
   "cell_type": "code",
   "execution_count": 11,
   "metadata": {},
   "outputs": [
    {
     "name": "stdout",
     "output_type": "stream",
     "text": [
      "Enter the number9\n"
     ]
    }
   ],
   "source": [
    "n=int(input('Enter the number'))"
   ]
  },
  {
   "cell_type": "code",
   "execution_count": 14,
   "metadata": {},
   "outputs": [
    {
     "name": "stdout",
     "output_type": "stream",
     "text": [
      "Enter the number givenr ange55\n"
     ]
    }
   ],
   "source": [
    "rang=int(input('Enter the number givenr ange'))"
   ]
  },
  {
   "cell_type": "code",
   "execution_count": 15,
   "metadata": {},
   "outputs": [
    {
     "name": "stdout",
     "output_type": "stream",
     "text": [
      "This  number is divisible y  number 0\n",
      "This  number is divisible y  number 9\n",
      "This  number is divisible y  number 18\n",
      "This  number is divisible y  number 27\n",
      "This  number is divisible y  number 36\n",
      "This  number is divisible y  number 45\n",
      "This  number is divisible y  number 54\n"
     ]
    }
   ],
   "source": [
    "for i in range(0,rang):\n",
    "    if(i%n==0):\n",
    "        print('This  number is divisible y  number',i)"
   ]
  },
  {
   "cell_type": "code",
   "execution_count": null,
   "metadata": {},
   "outputs": [],
   "source": []
  }
 ],
 "metadata": {
  "kernelspec": {
   "display_name": "Python 3",
   "language": "python",
   "name": "python3"
  },
  "language_info": {
   "codemirror_mode": {
    "name": "ipython",
    "version": 3
   },
   "file_extension": ".py",
   "mimetype": "text/x-python",
   "name": "python",
   "nbconvert_exporter": "python",
   "pygments_lexer": "ipython3",
   "version": "3.6.4"
  }
 },
 "nbformat": 4,
 "nbformat_minor": 2
}
