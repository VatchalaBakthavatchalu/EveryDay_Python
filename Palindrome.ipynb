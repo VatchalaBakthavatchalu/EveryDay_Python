{
 "cells": [
  {
   "cell_type": "code",
   "execution_count": 24,
   "metadata": {},
   "outputs": [
    {
     "name": "stdout",
     "output_type": "stream",
     "text": [
      "Enter the input number 88\n"
     ]
    }
   ],
   "source": [
    "Number=int(input('Enter the input number '))"
   ]
  },
  {
   "cell_type": "code",
   "execution_count": 25,
   "metadata": {},
   "outputs": [],
   "source": [
    "sum=0\n",
    "temp=Number"
   ]
  },
  {
   "cell_type": "code",
   "execution_count": 26,
   "metadata": {},
   "outputs": [
    {
     "name": "stdout",
     "output_type": "stream",
     "text": [
      "8\n",
      "8\n",
      "8\n",
      "8\n",
      "0\n",
      "88\n",
      "Given number is palindrome number\n"
     ]
    }
   ],
   "source": [
    "while(Number>0):\n",
    "    last_dig=Number%10\n",
    "    print(last_dig)\n",
    "    Number=Number//10\n",
    "    print(Number)\n",
    "    sum=sum*10+last_dig\n",
    "    print(sum)\n",
    "   \n",
    "if (temp==sum):\n",
    "    print('Given number is palindrome number')\n",
    "else:\n",
    "    print('Give number is not palindrome number')\n",
    "\n",
    "    "
   ]
  },
  {
   "cell_type": "code",
   "execution_count": null,
   "metadata": {},
   "outputs": [],
   "source": []
  },
  {
   "cell_type": "code",
   "execution_count": null,
   "metadata": {},
   "outputs": [],
   "source": []
  }
 ],
 "metadata": {
  "kernelspec": {
   "display_name": "Python 3",
   "language": "python",
   "name": "python3"
  },
  "language_info": {
   "codemirror_mode": {
    "name": "ipython",
    "version": 3
   },
   "file_extension": ".py",
   "mimetype": "text/x-python",
   "name": "python",
   "nbconvert_exporter": "python",
   "pygments_lexer": "ipython3",
   "version": "3.6.4"
  }
 },
 "nbformat": 4,
 "nbformat_minor": 2
}
